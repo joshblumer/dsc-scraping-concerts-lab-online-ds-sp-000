{
 "cells": [
  {
   "cell_type": "markdown",
   "metadata": {},
   "source": [
    "# Scraping Concerts - Lab\n",
    "\n",
    "## Introduction\n",
    "\n",
    "Now that you've seen how to scrape a simple website, it's time to again practice those skills on a full-fledged site!\n",
    "In this lab, you'll practice your scraping skills on a music website: https://www.residentadvisor.net.\n",
    "## Objectives\n",
    "\n",
    "You will be able to:\n",
    "* Create a full scraping pipeline that involves traversing over many pages of a website, dealing with errors and storing data"
   ]
  },
  {
   "cell_type": "markdown",
   "metadata": {},
   "source": [
    "## View the Website\n",
    "\n",
    "For this lab, you'll be scraping the https://www.residentadvisor.net website. Start by navigating to the events page [here](https://www.residentadvisor.net/events) in your browser.\n",
    "\n",
    "<img src=\"images/ra.png\">"
   ]
  },
  {
   "cell_type": "code",
   "execution_count": null,
   "metadata": {},
   "outputs": [],
   "source": [
    "# Load the https://www.residentadvisor.net/events page in your browser."
   ]
  },
  {
   "cell_type": "code",
   "execution_count": 75,
   "metadata": {},
   "outputs": [],
   "source": [
    "import requests\n",
    "from bs4 import BeautifulSoup\n",
    "import pandas as pd\n",
    "import numpy as np\n",
    "import re\n",
    "import time\n",
    "import matplotlib.pyplot as plt"
   ]
  },
  {
   "cell_type": "code",
   "execution_count": 2,
   "metadata": {},
   "outputs": [],
   "source": [
    "url = 'https://www.residentadvisor.net/events/us/newyork'\n",
    "resp = requests.get(url)\n",
    "soup = BeautifulSoup(resp.content, 'html.parser')"
   ]
  },
  {
   "cell_type": "code",
   "execution_count": 4,
   "metadata": {},
   "outputs": [
    {
     "data": {
      "text/plain": [
       "'Tue, 15 Sep 2020'"
      ]
     },
     "execution_count": 4,
     "metadata": {},
     "output_type": "execute_result"
    }
   ],
   "source": [
    "soup.find('div', id = 'event-listing').findAll('li')[0].text.replace('/', '').strip()"
   ]
  },
  {
   "cell_type": "code",
   "execution_count": null,
   "metadata": {},
   "outputs": [],
   "source": []
  },
  {
   "cell_type": "markdown",
   "metadata": {},
   "source": [
    "## Open the Inspect Element Feature\n",
    "\n",
    "Next, open the inspect element feature from your web browser in order to preview the underlying HTML associated with the page."
   ]
  },
  {
   "cell_type": "code",
   "execution_count": null,
   "metadata": {},
   "outputs": [],
   "source": [
    "# Open the inspect element feature in your browser"
   ]
  },
  {
   "cell_type": "markdown",
   "metadata": {},
   "source": [
    "## Write a Function to Scrape all of the Events on the Given Page Events Page\n",
    "\n",
    "The function should return a Pandas DataFrame with columns for the Event_Name, Venue, Event_Date and Number_of_Attendees."
   ]
  },
  {
   "cell_type": "code",
   "execution_count": 46,
   "metadata": {},
   "outputs": [],
   "source": [
    "def scrape_events(events_page_url):\n",
    "    #Your code here\n",
    "    resp = requests.get(events_page_url)\n",
    "    soup = BeautifulSoup(resp.content, 'html.parser')\n",
    "    \n",
    "    name_list = []\n",
    "    venue_list = []\n",
    "    date_list = []\n",
    "    attendees_list = []\n",
    "    \n",
    "    for x in soup.find('div', id = 'event-listing').findAll('li'):\n",
    "        if x.find(class_ = 'eventDate date'):\n",
    "            date = x.text.replace('/', '').strip()\n",
    "        elif (x.find(class_ = 'event-item clearfix')) or (x.find(class_ = 'event-item clearfix tickets-bkg-logo')):\n",
    "            name_list.append(x.find(class_ = 'event-title').find('a').text)\n",
    "            venue_list.append(x.find('h1').find('span').text.replace('at', '').strip())\n",
    "            date_list.append(date)\n",
    "            try:\n",
    "                attendees_list.append(x.find('p', class_ = 'attending').text.replace('Attending', '').strip())\n",
    "            except:\n",
    "                attendees_list.append(0)\n",
    "          \n",
    "                \n",
    "            \n",
    "            \n",
    "    df = pd.DataFrame({'Event_Name' : name_list, 'Venue' : venue_list, \n",
    "                      'Event_Date' : date_list, 'Number_of_Attendees' : attendees_list})\n",
    "    \n",
    "  \n",
    "    return df"
   ]
  },
  {
   "cell_type": "code",
   "execution_count": 38,
   "metadata": {},
   "outputs": [
    {
     "data": {
      "text/html": [
       "<div>\n",
       "<style scoped>\n",
       "    .dataframe tbody tr th:only-of-type {\n",
       "        vertical-align: middle;\n",
       "    }\n",
       "\n",
       "    .dataframe tbody tr th {\n",
       "        vertical-align: top;\n",
       "    }\n",
       "\n",
       "    .dataframe thead th {\n",
       "        text-align: right;\n",
       "    }\n",
       "</style>\n",
       "<table border=\"1\" class=\"dataframe\">\n",
       "  <thead>\n",
       "    <tr style=\"text-align: right;\">\n",
       "      <th></th>\n",
       "      <th>Event_Name</th>\n",
       "      <th>Venue</th>\n",
       "      <th>Event_Date</th>\n",
       "      <th>Number_of_Attendees</th>\n",
       "    </tr>\n",
       "  </thead>\n",
       "  <tbody>\n",
       "    <tr>\n",
       "      <th>0</th>\n",
       "      <td>Outdoor Films: Fela: Music Is The Weapon and F...</td>\n",
       "      <td>Nowadays</td>\n",
       "      <td>Wed, 16 Sep 2020</td>\n",
       "      <td>2</td>\n",
       "    </tr>\n",
       "    <tr>\n",
       "      <th>1</th>\n",
       "      <td>Cold Waves + Popgun present: Front 242</td>\n",
       "      <td>Elsewhere</td>\n",
       "      <td>Thu, 17 Sep 2020</td>\n",
       "      <td>8</td>\n",
       "    </tr>\n",
       "    <tr>\n",
       "      <th>2</th>\n",
       "      <td>Outdoor Films: The Harder They Come</td>\n",
       "      <td>Nowadays</td>\n",
       "      <td>Mon, 21 Sep 2020</td>\n",
       "      <td>3</td>\n",
       "    </tr>\n",
       "    <tr>\n",
       "      <th>3</th>\n",
       "      <td>Outdoor Films: The Harder They Come</td>\n",
       "      <td>Nowadays</td>\n",
       "      <td>Tue, 22 Sep 2020</td>\n",
       "      <td>3</td>\n",
       "    </tr>\n",
       "    <tr>\n",
       "      <th>4</th>\n",
       "      <td>Outdoor Films: The Black Power Mixtape 1967-1975</td>\n",
       "      <td>Nowadays</td>\n",
       "      <td>Tue, 22 Sep 2020</td>\n",
       "      <td>1</td>\n",
       "    </tr>\n",
       "  </tbody>\n",
       "</table>\n",
       "</div>"
      ],
      "text/plain": [
       "                                          Event_Name      Venue  \\\n",
       "0  Outdoor Films: Fela: Music Is The Weapon and F...   Nowadays   \n",
       "1             Cold Waves + Popgun present: Front 242  Elsewhere   \n",
       "2                Outdoor Films: The Harder They Come   Nowadays   \n",
       "3                Outdoor Films: The Harder They Come   Nowadays   \n",
       "4   Outdoor Films: The Black Power Mixtape 1967-1975   Nowadays   \n",
       "\n",
       "         Event_Date Number_of_Attendees  \n",
       "0  Wed, 16 Sep 2020                   2  \n",
       "1  Thu, 17 Sep 2020                   8  \n",
       "2  Mon, 21 Sep 2020                   3  \n",
       "3  Tue, 22 Sep 2020                   3  \n",
       "4  Tue, 22 Sep 2020                   1  "
      ]
     },
     "execution_count": 38,
     "metadata": {},
     "output_type": "execute_result"
    }
   ],
   "source": [
    "scrape_events('https://www.residentadvisor.net/events/us/newyork')"
   ]
  },
  {
   "cell_type": "markdown",
   "metadata": {},
   "source": [
    "## Write a Function to Retrieve the URL for the Next Page"
   ]
  },
  {
   "cell_type": "code",
   "execution_count": 16,
   "metadata": {},
   "outputs": [
    {
     "data": {
      "text/plain": [
       "'https://www.residentadvisor.net/events/us/newyork/week/2020-09-22'"
      ]
     },
     "execution_count": 16,
     "metadata": {},
     "output_type": "execute_result"
    }
   ],
   "source": [
    "'https://www.residentadvisor.net' + soup.find('li', class_ = 'but arrow-right right').find('a')['href']"
   ]
  },
  {
   "cell_type": "code",
   "execution_count": 14,
   "metadata": {},
   "outputs": [
    {
     "data": {
      "text/plain": [
       "'https://www.residentadvisor.net/events/us/newyork'"
      ]
     },
     "execution_count": 14,
     "metadata": {},
     "output_type": "execute_result"
    }
   ],
   "source": [
    "url"
   ]
  },
  {
   "cell_type": "code",
   "execution_count": 17,
   "metadata": {},
   "outputs": [],
   "source": [
    "def next_page(url):\n",
    "    #Your code here\n",
    "    resp = requests.get(url)\n",
    "    soup = BeautifulSoup(resp.content, 'html.parser')\n",
    "    back_of_url = soup.find('li', class_ = 'but arrow-right right').find('a')['href']\n",
    "    next_page_url = 'https://www.residentadvisor.net' + back_of_url\n",
    "    return next_page_url"
   ]
  },
  {
   "cell_type": "code",
   "execution_count": 18,
   "metadata": {},
   "outputs": [
    {
     "data": {
      "text/plain": [
       "'https://www.residentadvisor.net/events/us/newyork/week/2020-09-23'"
      ]
     },
     "execution_count": 18,
     "metadata": {},
     "output_type": "execute_result"
    }
   ],
   "source": [
    "next_page('https://www.residentadvisor.net/events/us/newyork')"
   ]
  },
  {
   "cell_type": "code",
   "execution_count": 21,
   "metadata": {},
   "outputs": [],
   "source": [
    "df1 = pd.DataFrame()\n",
    "\n",
    "df_first_page = scrape_events('https://www.residentadvisor.net/events/us/newyork')"
   ]
  },
  {
   "cell_type": "code",
   "execution_count": 23,
   "metadata": {},
   "outputs": [
    {
     "data": {
      "text/html": [
       "<div>\n",
       "<style scoped>\n",
       "    .dataframe tbody tr th:only-of-type {\n",
       "        vertical-align: middle;\n",
       "    }\n",
       "\n",
       "    .dataframe tbody tr th {\n",
       "        vertical-align: top;\n",
       "    }\n",
       "\n",
       "    .dataframe thead th {\n",
       "        text-align: right;\n",
       "    }\n",
       "</style>\n",
       "<table border=\"1\" class=\"dataframe\">\n",
       "  <thead>\n",
       "    <tr style=\"text-align: right;\">\n",
       "      <th></th>\n",
       "      <th>Event_Name</th>\n",
       "      <th>Venue</th>\n",
       "      <th>Event_Date</th>\n",
       "      <th>Number_of_Attendees</th>\n",
       "    </tr>\n",
       "  </thead>\n",
       "  <tbody>\n",
       "    <tr>\n",
       "      <th>0</th>\n",
       "      <td>Outdoor Films: Fela: Music Is The Weapon and F...</td>\n",
       "      <td>Nowadays</td>\n",
       "      <td>Wed, 16 Sep 2020</td>\n",
       "      <td>2</td>\n",
       "    </tr>\n",
       "    <tr>\n",
       "      <th>1</th>\n",
       "      <td>Cold Waves + Popgun present: Front 242</td>\n",
       "      <td>Elsewhere</td>\n",
       "      <td>Thu, 17 Sep 2020</td>\n",
       "      <td>8</td>\n",
       "    </tr>\n",
       "    <tr>\n",
       "      <th>2</th>\n",
       "      <td>Outdoor Films: The Harder They Come</td>\n",
       "      <td>Nowadays</td>\n",
       "      <td>Mon, 21 Sep 2020</td>\n",
       "      <td>3</td>\n",
       "    </tr>\n",
       "    <tr>\n",
       "      <th>3</th>\n",
       "      <td>Outdoor Films: The Harder They Come</td>\n",
       "      <td>Nowadays</td>\n",
       "      <td>Tue, 22 Sep 2020</td>\n",
       "      <td>3</td>\n",
       "    </tr>\n",
       "    <tr>\n",
       "      <th>4</th>\n",
       "      <td>Outdoor Films: The Black Power Mixtape 1967-1975</td>\n",
       "      <td>Nowadays</td>\n",
       "      <td>Tue, 22 Sep 2020</td>\n",
       "      <td>1</td>\n",
       "    </tr>\n",
       "    <tr>\n",
       "      <th>0</th>\n",
       "      <td>Outdoor Films: Fela: Music Is The Weapon and F...</td>\n",
       "      <td>Nowadays</td>\n",
       "      <td>Wed, 16 Sep 2020</td>\n",
       "      <td>2</td>\n",
       "    </tr>\n",
       "    <tr>\n",
       "      <th>1</th>\n",
       "      <td>Cold Waves + Popgun present: Front 242</td>\n",
       "      <td>Elsewhere</td>\n",
       "      <td>Thu, 17 Sep 2020</td>\n",
       "      <td>8</td>\n",
       "    </tr>\n",
       "    <tr>\n",
       "      <th>2</th>\n",
       "      <td>Outdoor Films: The Harder They Come</td>\n",
       "      <td>Nowadays</td>\n",
       "      <td>Mon, 21 Sep 2020</td>\n",
       "      <td>3</td>\n",
       "    </tr>\n",
       "    <tr>\n",
       "      <th>3</th>\n",
       "      <td>Outdoor Films: The Harder They Come</td>\n",
       "      <td>Nowadays</td>\n",
       "      <td>Tue, 22 Sep 2020</td>\n",
       "      <td>3</td>\n",
       "    </tr>\n",
       "    <tr>\n",
       "      <th>4</th>\n",
       "      <td>Outdoor Films: The Black Power Mixtape 1967-1975</td>\n",
       "      <td>Nowadays</td>\n",
       "      <td>Tue, 22 Sep 2020</td>\n",
       "      <td>1</td>\n",
       "    </tr>\n",
       "  </tbody>\n",
       "</table>\n",
       "</div>"
      ],
      "text/plain": [
       "                                          Event_Name      Venue  \\\n",
       "0  Outdoor Films: Fela: Music Is The Weapon and F...   Nowadays   \n",
       "1             Cold Waves + Popgun present: Front 242  Elsewhere   \n",
       "2                Outdoor Films: The Harder They Come   Nowadays   \n",
       "3                Outdoor Films: The Harder They Come   Nowadays   \n",
       "4   Outdoor Films: The Black Power Mixtape 1967-1975   Nowadays   \n",
       "0  Outdoor Films: Fela: Music Is The Weapon and F...   Nowadays   \n",
       "1             Cold Waves + Popgun present: Front 242  Elsewhere   \n",
       "2                Outdoor Films: The Harder They Come   Nowadays   \n",
       "3                Outdoor Films: The Harder They Come   Nowadays   \n",
       "4   Outdoor Films: The Black Power Mixtape 1967-1975   Nowadays   \n",
       "\n",
       "         Event_Date Number_of_Attendees  \n",
       "0  Wed, 16 Sep 2020                   2  \n",
       "1  Thu, 17 Sep 2020                   8  \n",
       "2  Mon, 21 Sep 2020                   3  \n",
       "3  Tue, 22 Sep 2020                   3  \n",
       "4  Tue, 22 Sep 2020                   1  \n",
       "0  Wed, 16 Sep 2020                   2  \n",
       "1  Thu, 17 Sep 2020                   8  \n",
       "2  Mon, 21 Sep 2020                   3  \n",
       "3  Tue, 22 Sep 2020                   3  \n",
       "4  Tue, 22 Sep 2020                   1  "
      ]
     },
     "execution_count": 23,
     "metadata": {},
     "output_type": "execute_result"
    }
   ],
   "source": [
    "df1 = pd.concat([df1, df_first_page])\n",
    "df1"
   ]
  },
  {
   "cell_type": "code",
   "execution_count": 24,
   "metadata": {},
   "outputs": [
    {
     "data": {
      "text/plain": [
       "'https://www.residentadvisor.net/events/us/newyork/week/2020-09-23'"
      ]
     },
     "execution_count": 24,
     "metadata": {},
     "output_type": "execute_result"
    }
   ],
   "source": [
    "next_url = next_page('https://www.residentadvisor.net/events/us/newyork')\n",
    "next_url"
   ]
  },
  {
   "cell_type": "code",
   "execution_count": 26,
   "metadata": {},
   "outputs": [
    {
     "data": {
      "text/html": [
       "<div>\n",
       "<style scoped>\n",
       "    .dataframe tbody tr th:only-of-type {\n",
       "        vertical-align: middle;\n",
       "    }\n",
       "\n",
       "    .dataframe tbody tr th {\n",
       "        vertical-align: top;\n",
       "    }\n",
       "\n",
       "    .dataframe thead th {\n",
       "        text-align: right;\n",
       "    }\n",
       "</style>\n",
       "<table border=\"1\" class=\"dataframe\">\n",
       "  <thead>\n",
       "    <tr style=\"text-align: right;\">\n",
       "      <th></th>\n",
       "      <th>Event_Name</th>\n",
       "      <th>Venue</th>\n",
       "      <th>Event_Date</th>\n",
       "      <th>Number_of_Attendees</th>\n",
       "    </tr>\n",
       "  </thead>\n",
       "  <tbody>\n",
       "    <tr>\n",
       "      <th>0</th>\n",
       "      <td>Outdoor Films: The Black Power Mixtape 1967-1975</td>\n",
       "      <td>Nowadays</td>\n",
       "      <td>Wed, 23 Sep 2020</td>\n",
       "      <td>1</td>\n",
       "    </tr>\n",
       "    <tr>\n",
       "      <th>1</th>\n",
       "      <td>[RESCHEDULED] Black Party 2020</td>\n",
       "      <td>New York Expo Center</td>\n",
       "      <td>Sat, 26 Sep 2020</td>\n",
       "      <td>24</td>\n",
       "    </tr>\n",
       "    <tr>\n",
       "      <th>2</th>\n",
       "      <td>United By Dance</td>\n",
       "      <td>Yasgur Road</td>\n",
       "      <td>Sat, 26 Sep 2020</td>\n",
       "      <td>6</td>\n",
       "    </tr>\n",
       "    <tr>\n",
       "      <th>3</th>\n",
       "      <td>Live It Up Midnight Yacht Cruise</td>\n",
       "      <td>Harbor Lights Yacht</td>\n",
       "      <td>Sat, 26 Sep 2020</td>\n",
       "      <td>3</td>\n",
       "    </tr>\n",
       "  </tbody>\n",
       "</table>\n",
       "</div>"
      ],
      "text/plain": [
       "                                         Event_Name                 Venue  \\\n",
       "0  Outdoor Films: The Black Power Mixtape 1967-1975              Nowadays   \n",
       "1                    [RESCHEDULED] Black Party 2020  New York Expo Center   \n",
       "2                                   United By Dance           Yasgur Road   \n",
       "3                  Live It Up Midnight Yacht Cruise   Harbor Lights Yacht   \n",
       "\n",
       "         Event_Date Number_of_Attendees  \n",
       "0  Wed, 23 Sep 2020                   1  \n",
       "1  Sat, 26 Sep 2020                  24  \n",
       "2  Sat, 26 Sep 2020                   6  \n",
       "3  Sat, 26 Sep 2020                   3  "
      ]
     },
     "execution_count": 26,
     "metadata": {},
     "output_type": "execute_result"
    }
   ],
   "source": [
    "df_second_page = scrape_events(next_url)\n",
    "df_second_page"
   ]
  },
  {
   "cell_type": "code",
   "execution_count": 27,
   "metadata": {},
   "outputs": [
    {
     "data": {
      "text/html": [
       "<div>\n",
       "<style scoped>\n",
       "    .dataframe tbody tr th:only-of-type {\n",
       "        vertical-align: middle;\n",
       "    }\n",
       "\n",
       "    .dataframe tbody tr th {\n",
       "        vertical-align: top;\n",
       "    }\n",
       "\n",
       "    .dataframe thead th {\n",
       "        text-align: right;\n",
       "    }\n",
       "</style>\n",
       "<table border=\"1\" class=\"dataframe\">\n",
       "  <thead>\n",
       "    <tr style=\"text-align: right;\">\n",
       "      <th></th>\n",
       "      <th>Event_Name</th>\n",
       "      <th>Venue</th>\n",
       "      <th>Event_Date</th>\n",
       "      <th>Number_of_Attendees</th>\n",
       "    </tr>\n",
       "  </thead>\n",
       "  <tbody>\n",
       "    <tr>\n",
       "      <th>0</th>\n",
       "      <td>Outdoor Films: Fela: Music Is The Weapon and F...</td>\n",
       "      <td>Nowadays</td>\n",
       "      <td>Wed, 16 Sep 2020</td>\n",
       "      <td>2</td>\n",
       "    </tr>\n",
       "    <tr>\n",
       "      <th>1</th>\n",
       "      <td>Cold Waves + Popgun present: Front 242</td>\n",
       "      <td>Elsewhere</td>\n",
       "      <td>Thu, 17 Sep 2020</td>\n",
       "      <td>8</td>\n",
       "    </tr>\n",
       "    <tr>\n",
       "      <th>2</th>\n",
       "      <td>Outdoor Films: The Harder They Come</td>\n",
       "      <td>Nowadays</td>\n",
       "      <td>Mon, 21 Sep 2020</td>\n",
       "      <td>3</td>\n",
       "    </tr>\n",
       "    <tr>\n",
       "      <th>3</th>\n",
       "      <td>Outdoor Films: The Harder They Come</td>\n",
       "      <td>Nowadays</td>\n",
       "      <td>Tue, 22 Sep 2020</td>\n",
       "      <td>3</td>\n",
       "    </tr>\n",
       "    <tr>\n",
       "      <th>4</th>\n",
       "      <td>Outdoor Films: The Black Power Mixtape 1967-1975</td>\n",
       "      <td>Nowadays</td>\n",
       "      <td>Tue, 22 Sep 2020</td>\n",
       "      <td>1</td>\n",
       "    </tr>\n",
       "    <tr>\n",
       "      <th>0</th>\n",
       "      <td>Outdoor Films: Fela: Music Is The Weapon and F...</td>\n",
       "      <td>Nowadays</td>\n",
       "      <td>Wed, 16 Sep 2020</td>\n",
       "      <td>2</td>\n",
       "    </tr>\n",
       "    <tr>\n",
       "      <th>1</th>\n",
       "      <td>Cold Waves + Popgun present: Front 242</td>\n",
       "      <td>Elsewhere</td>\n",
       "      <td>Thu, 17 Sep 2020</td>\n",
       "      <td>8</td>\n",
       "    </tr>\n",
       "    <tr>\n",
       "      <th>2</th>\n",
       "      <td>Outdoor Films: The Harder They Come</td>\n",
       "      <td>Nowadays</td>\n",
       "      <td>Mon, 21 Sep 2020</td>\n",
       "      <td>3</td>\n",
       "    </tr>\n",
       "    <tr>\n",
       "      <th>3</th>\n",
       "      <td>Outdoor Films: The Harder They Come</td>\n",
       "      <td>Nowadays</td>\n",
       "      <td>Tue, 22 Sep 2020</td>\n",
       "      <td>3</td>\n",
       "    </tr>\n",
       "    <tr>\n",
       "      <th>4</th>\n",
       "      <td>Outdoor Films: The Black Power Mixtape 1967-1975</td>\n",
       "      <td>Nowadays</td>\n",
       "      <td>Tue, 22 Sep 2020</td>\n",
       "      <td>1</td>\n",
       "    </tr>\n",
       "    <tr>\n",
       "      <th>0</th>\n",
       "      <td>Outdoor Films: The Black Power Mixtape 1967-1975</td>\n",
       "      <td>Nowadays</td>\n",
       "      <td>Wed, 23 Sep 2020</td>\n",
       "      <td>1</td>\n",
       "    </tr>\n",
       "    <tr>\n",
       "      <th>1</th>\n",
       "      <td>[RESCHEDULED] Black Party 2020</td>\n",
       "      <td>New York Expo Center</td>\n",
       "      <td>Sat, 26 Sep 2020</td>\n",
       "      <td>24</td>\n",
       "    </tr>\n",
       "    <tr>\n",
       "      <th>2</th>\n",
       "      <td>United By Dance</td>\n",
       "      <td>Yasgur Road</td>\n",
       "      <td>Sat, 26 Sep 2020</td>\n",
       "      <td>6</td>\n",
       "    </tr>\n",
       "    <tr>\n",
       "      <th>3</th>\n",
       "      <td>Live It Up Midnight Yacht Cruise</td>\n",
       "      <td>Harbor Lights Yacht</td>\n",
       "      <td>Sat, 26 Sep 2020</td>\n",
       "      <td>3</td>\n",
       "    </tr>\n",
       "  </tbody>\n",
       "</table>\n",
       "</div>"
      ],
      "text/plain": [
       "                                          Event_Name                 Venue  \\\n",
       "0  Outdoor Films: Fela: Music Is The Weapon and F...              Nowadays   \n",
       "1             Cold Waves + Popgun present: Front 242             Elsewhere   \n",
       "2                Outdoor Films: The Harder They Come              Nowadays   \n",
       "3                Outdoor Films: The Harder They Come              Nowadays   \n",
       "4   Outdoor Films: The Black Power Mixtape 1967-1975              Nowadays   \n",
       "0  Outdoor Films: Fela: Music Is The Weapon and F...              Nowadays   \n",
       "1             Cold Waves + Popgun present: Front 242             Elsewhere   \n",
       "2                Outdoor Films: The Harder They Come              Nowadays   \n",
       "3                Outdoor Films: The Harder They Come              Nowadays   \n",
       "4   Outdoor Films: The Black Power Mixtape 1967-1975              Nowadays   \n",
       "0   Outdoor Films: The Black Power Mixtape 1967-1975              Nowadays   \n",
       "1                     [RESCHEDULED] Black Party 2020  New York Expo Center   \n",
       "2                                    United By Dance           Yasgur Road   \n",
       "3                   Live It Up Midnight Yacht Cruise   Harbor Lights Yacht   \n",
       "\n",
       "         Event_Date Number_of_Attendees  \n",
       "0  Wed, 16 Sep 2020                   2  \n",
       "1  Thu, 17 Sep 2020                   8  \n",
       "2  Mon, 21 Sep 2020                   3  \n",
       "3  Tue, 22 Sep 2020                   3  \n",
       "4  Tue, 22 Sep 2020                   1  \n",
       "0  Wed, 16 Sep 2020                   2  \n",
       "1  Thu, 17 Sep 2020                   8  \n",
       "2  Mon, 21 Sep 2020                   3  \n",
       "3  Tue, 22 Sep 2020                   3  \n",
       "4  Tue, 22 Sep 2020                   1  \n",
       "0  Wed, 23 Sep 2020                   1  \n",
       "1  Sat, 26 Sep 2020                  24  \n",
       "2  Sat, 26 Sep 2020                   6  \n",
       "3  Sat, 26 Sep 2020                   3  "
      ]
     },
     "execution_count": 27,
     "metadata": {},
     "output_type": "execute_result"
    }
   ],
   "source": [
    "df1 = pd.concat([df1, df_second_page])\n",
    "df1"
   ]
  },
  {
   "cell_type": "markdown",
   "metadata": {},
   "source": [
    "## Scrape the Next 1000 Events for Your Area\n",
    "\n",
    "Display the data sorted by the number of attendees. If there is a tie for the number attending, sort by event date."
   ]
  },
  {
   "cell_type": "code",
   "execution_count": 47,
   "metadata": {},
   "outputs": [
    {
     "name": "stdout",
     "output_type": "stream",
     "text": [
      "Currently have 0 events scraped\n",
      "Currently have 5 events scraped\n",
      "Currently have 9 events scraped\n",
      "Currently have 11 events scraped\n",
      "Currently have 16 events scraped\n",
      "Currently have 20 events scraped\n",
      "Currently have 20 events scraped\n",
      "Currently have 21 events scraped\n",
      "Currently have 25 events scraped\n",
      "Currently have 28 events scraped\n",
      "Currently have 28 events scraped\n",
      "Currently have 30 events scraped\n",
      "Currently have 32 events scraped\n",
      "Currently have 33 events scraped\n",
      "Currently have 33 events scraped\n",
      "Currently have 33 events scraped\n",
      "Currently have 33 events scraped\n",
      "Currently have 33 events scraped\n",
      "Currently have 33 events scraped\n",
      "Currently have 33 events scraped\n",
      "Currently have 33 events scraped\n",
      "Currently have 35 events scraped\n",
      "Currently have 35 events scraped\n",
      "Currently have 35 events scraped\n",
      "Currently have 35 events scraped\n",
      "Currently have 36 events scraped\n",
      "Currently have 36 events scraped\n",
      "Currently have 36 events scraped\n",
      "Currently have 36 events scraped\n",
      "Currently have 36 events scraped\n",
      "Currently have 36 events scraped\n",
      "Currently have 36 events scraped\n",
      "Currently have 36 events scraped\n",
      "Currently have 36 events scraped\n",
      "Currently have 36 events scraped\n",
      "Currently have 36 events scraped\n",
      "Currently have 36 events scraped\n",
      "Currently have 36 events scraped\n",
      "Currently have 38 events scraped\n",
      "Currently have 38 events scraped\n",
      "Currently have 40 events scraped\n",
      "Currently have 40 events scraped\n",
      "Currently have 40 events scraped\n",
      "Currently have 41 events scraped\n",
      "Currently have 41 events scraped\n",
      "Currently have 41 events scraped\n",
      "Currently have 43 events scraped\n"
     ]
    }
   ],
   "source": [
    "#Your code here\n",
    "\n",
    "df1 = pd.DataFrame()\n",
    "url = 'https://www.residentadvisor.net/events/us/newyork'\n",
    "\n",
    "while len(df1) < 1000:\n",
    "    print(f'Currently have {len(df1)} events scraped')\n",
    "    \n",
    "    df_events = scrape_events(url)\n",
    "    \n",
    "    df1 = pd.concat([df1, df_events])\n",
    "    \n",
    "    try:\n",
    "        url = next_page(url)\n",
    "    except:\n",
    "        break\n",
    "    "
   ]
  },
  {
   "cell_type": "code",
   "execution_count": 64,
   "metadata": {},
   "outputs": [
    {
     "data": {
      "text/plain": [
       "'https://www.residentadvisor.net/events/us/newyork/week/2021-08-04'"
      ]
     },
     "execution_count": 64,
     "metadata": {},
     "output_type": "execute_result"
    }
   ],
   "source": [
    "url"
   ]
  },
  {
   "cell_type": "code",
   "execution_count": 65,
   "metadata": {},
   "outputs": [
    {
     "data": {
      "text/html": [
       "<div>\n",
       "<style scoped>\n",
       "    .dataframe tbody tr th:only-of-type {\n",
       "        vertical-align: middle;\n",
       "    }\n",
       "\n",
       "    .dataframe tbody tr th {\n",
       "        vertical-align: top;\n",
       "    }\n",
       "\n",
       "    .dataframe thead th {\n",
       "        text-align: right;\n",
       "    }\n",
       "</style>\n",
       "<table border=\"1\" class=\"dataframe\">\n",
       "  <thead>\n",
       "    <tr style=\"text-align: right;\">\n",
       "      <th></th>\n",
       "      <th>Event_Name</th>\n",
       "      <th>Venue</th>\n",
       "      <th>Event_Date</th>\n",
       "      <th>Number_of_Attendees</th>\n",
       "      <th>Event_date</th>\n",
       "    </tr>\n",
       "  </thead>\n",
       "  <tbody>\n",
       "    <tr>\n",
       "      <th>0</th>\n",
       "      <td>Outdoor Films: Fela: Music Is The Weapon and F...</td>\n",
       "      <td>Nowadays</td>\n",
       "      <td>Wed, 16 Sep 2020</td>\n",
       "      <td>2</td>\n",
       "      <td>2020-09-16</td>\n",
       "    </tr>\n",
       "    <tr>\n",
       "      <th>1</th>\n",
       "      <td>Cold Waves + Popgun present: Front 242</td>\n",
       "      <td>Elsewhere</td>\n",
       "      <td>Thu, 17 Sep 2020</td>\n",
       "      <td>8</td>\n",
       "      <td>2020-09-17</td>\n",
       "    </tr>\n",
       "    <tr>\n",
       "      <th>2</th>\n",
       "      <td>Outdoor Films: The Harder They Come</td>\n",
       "      <td>Nowadays</td>\n",
       "      <td>Mon, 21 Sep 2020</td>\n",
       "      <td>3</td>\n",
       "      <td>2020-09-21</td>\n",
       "    </tr>\n",
       "    <tr>\n",
       "      <th>3</th>\n",
       "      <td>Outdoor Films: The Harder They Come</td>\n",
       "      <td>Nowadays</td>\n",
       "      <td>Tue, 22 Sep 2020</td>\n",
       "      <td>3</td>\n",
       "      <td>2020-09-22</td>\n",
       "    </tr>\n",
       "    <tr>\n",
       "      <th>4</th>\n",
       "      <td>Outdoor Films: The Black Power Mixtape 1967-1975</td>\n",
       "      <td>Nowadays</td>\n",
       "      <td>Tue, 22 Sep 2020</td>\n",
       "      <td>1</td>\n",
       "      <td>2020-09-22</td>\n",
       "    </tr>\n",
       "  </tbody>\n",
       "</table>\n",
       "</div>"
      ],
      "text/plain": [
       "                                          Event_Name      Venue  \\\n",
       "0  Outdoor Films: Fela: Music Is The Weapon and F...   Nowadays   \n",
       "1             Cold Waves + Popgun present: Front 242  Elsewhere   \n",
       "2                Outdoor Films: The Harder They Come   Nowadays   \n",
       "3                Outdoor Films: The Harder They Come   Nowadays   \n",
       "4   Outdoor Films: The Black Power Mixtape 1967-1975   Nowadays   \n",
       "\n",
       "         Event_Date Number_of_Attendees Event_date  \n",
       "0  Wed, 16 Sep 2020                   2 2020-09-16  \n",
       "1  Thu, 17 Sep 2020                   8 2020-09-17  \n",
       "2  Mon, 21 Sep 2020                   3 2020-09-21  \n",
       "3  Tue, 22 Sep 2020                   3 2020-09-22  \n",
       "4  Tue, 22 Sep 2020                   1 2020-09-22  "
      ]
     },
     "execution_count": 65,
     "metadata": {},
     "output_type": "execute_result"
    }
   ],
   "source": [
    "df1.head()"
   ]
  },
  {
   "cell_type": "code",
   "execution_count": 69,
   "metadata": {},
   "outputs": [],
   "source": [
    "df1['Event_Date'] = pd.to_datetime(df1['Event_Date'])\n"
   ]
  },
  {
   "cell_type": "code",
   "execution_count": 67,
   "metadata": {},
   "outputs": [
    {
     "data": {
      "text/plain": [
       "Event_Name                     object\n",
       "Venue                          object\n",
       "Event_Date                     object\n",
       "Number_of_Attendees            object\n",
       "Event_date             datetime64[ns]\n",
       "dtype: object"
      ]
     },
     "execution_count": 67,
     "metadata": {},
     "output_type": "execute_result"
    }
   ],
   "source": [
    "df1.dtypes"
   ]
  },
  {
   "cell_type": "code",
   "execution_count": 70,
   "metadata": {},
   "outputs": [
    {
     "data": {
      "text/html": [
       "<div>\n",
       "<style scoped>\n",
       "    .dataframe tbody tr th:only-of-type {\n",
       "        vertical-align: middle;\n",
       "    }\n",
       "\n",
       "    .dataframe tbody tr th {\n",
       "        vertical-align: top;\n",
       "    }\n",
       "\n",
       "    .dataframe thead th {\n",
       "        text-align: right;\n",
       "    }\n",
       "</style>\n",
       "<table border=\"1\" class=\"dataframe\">\n",
       "  <thead>\n",
       "    <tr style=\"text-align: right;\">\n",
       "      <th></th>\n",
       "      <th>Event_Name</th>\n",
       "      <th>Venue</th>\n",
       "      <th>Event_Date</th>\n",
       "      <th>Number_of_Attendees</th>\n",
       "      <th>Event_date</th>\n",
       "    </tr>\n",
       "  </thead>\n",
       "  <tbody>\n",
       "    <tr>\n",
       "      <th>0</th>\n",
       "      <td>Outdoor Films: Fela: Music Is The Weapon and F...</td>\n",
       "      <td>Nowadays</td>\n",
       "      <td>2020-09-16</td>\n",
       "      <td>2</td>\n",
       "      <td>2020-09-16</td>\n",
       "    </tr>\n",
       "    <tr>\n",
       "      <th>1</th>\n",
       "      <td>Cold Waves + Popgun present: Front 242</td>\n",
       "      <td>Elsewhere</td>\n",
       "      <td>2020-09-17</td>\n",
       "      <td>8</td>\n",
       "      <td>2020-09-17</td>\n",
       "    </tr>\n",
       "  </tbody>\n",
       "</table>\n",
       "</div>"
      ],
      "text/plain": [
       "                                          Event_Name      Venue Event_Date  \\\n",
       "0  Outdoor Films: Fela: Music Is The Weapon and F...   Nowadays 2020-09-16   \n",
       "1             Cold Waves + Popgun present: Front 242  Elsewhere 2020-09-17   \n",
       "\n",
       "  Number_of_Attendees Event_date  \n",
       "0                   2 2020-09-16  \n",
       "1                   8 2020-09-17  "
      ]
     },
     "execution_count": 70,
     "metadata": {},
     "output_type": "execute_result"
    }
   ],
   "source": [
    "df1.head(2)"
   ]
  },
  {
   "cell_type": "code",
   "execution_count": 76,
   "metadata": {},
   "outputs": [
    {
     "data": {
      "image/png": "[encoded data removed]",
      "text/plain": [
       "<Figure size 432x288 with 1 Axes>"
      ]
     },
     "metadata": {
      "needs_background": "light"
     },
     "output_type": "display_data"
    }
   ],
   "source": [
    "df1.set_index('Event_Date').resample('W')['Event_Name'].count().plot(kind = 'line')\n",
    "plt.show()"
   ]
  },
  {
   "cell_type": "markdown",
   "metadata": {},
   "source": [
    "## Summary \n",
    "\n",
    "Congratulations! In this lab, you successfully developed a pipeline to scrape a website for concert event information!"
   ]
  }
 ],
 "metadata": {
  "kernelspec": {
   "display_name": "Python 3",
   "language": "python",
   "name": "python3"
  },
  "language_info": {
   "codemirror_mode": {
    "name": "ipython",
    "version": 3
   },
   "file_extension": ".py",
   "mimetype": "text/x-python",
   "name": "python",
   "nbconvert_exporter": "python",
   "pygments_lexer": "ipython3",
   "version": "3.6.6"
  }
 },
 "nbformat": 4,
 "nbformat_minor": 2
}
